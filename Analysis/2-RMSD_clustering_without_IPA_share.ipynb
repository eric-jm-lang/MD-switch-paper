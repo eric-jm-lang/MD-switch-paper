{
 "cells": [
  {
   "cell_type": "code",
   "execution_count": 1,
   "metadata": {},
   "outputs": [],
   "source": [
    "%matplotlib inline\n",
    "import matplotlib as mpl\n",
    "mpl.rc(\"font\", family=\"Arial\")\n",
    "import matplotlib.pyplot as plt\n",
    "from mpl_toolkits.axes_grid1 import make_axes_locatable\n",
    "from matplotlib.colors import ListedColormap, LinearSegmentedColormap\n",
    "from pylab import *\n",
    "\n",
    "import numpy as np\n",
    "import pandas as pd\n",
    "\n",
    "import pytraj as pt\n",
    "import mdtraj as md\n",
    "\n",
    "import pickle\n",
    "import os\n",
    "import sys\n",
    "\n",
    "import random\n",
    "\n",
    "from collections import Counter\n",
    "\n",
    "from glob import glob\n",
    "\n",
    "import free_energy_clustering as FEC"
   ]
  },
  {
   "cell_type": "markdown",
   "metadata": {},
   "source": [
    "In the following we use the same approach as in `1-RMSD_clustering_with_IPA_share`"
   ]
  },
  {
   "cell_type": "markdown",
   "metadata": {},
   "source": [
    "## References and trajectories"
   ]
  },
  {
   "cell_type": "markdown",
   "metadata": {},
   "source": [
    "Load the reference open and closed crystal structures. Note that 6 versions of the closed form are loaded, they are identical but with rotating chain IDs so that it doesn't matter how open structure closes, the minimum RMSD value will be retained."
   ]
  },
  {
   "cell_type": "code",
   "execution_count": 3,
   "metadata": {},
   "outputs": [],
   "source": [
    "rf0=pt.load('../1-Trajectories/0-Parm_rst/closed6_dry_rot0.rst7', \n",
    "            '../1-Trajectories/0-Parm_rst/closed6_dry_rot0.parm7')\n",
    "\n",
    "rf1=pt.load('../1-Trajectories/0-Parm_rst/closed6_dry_rot1.rst7', \n",
    "            '../1-Trajectories/0-Parm_rst/closed6_dry_rot1.parm7')\n",
    "\n",
    "rf2=pt.load('../1-Trajectories/0-Parm_rst//closed6_dry_rot2.rst7',\n",
    "            '../1-Trajectories/0-Parm_rst/closed6_dry_rot2.parm7')\n",
    "\n",
    "rf3=pt.load('../1-Trajectories/0-Parm_rst/closed6_dry_rot3.rst7', \n",
    "            '../1-Trajectories/0-Parm_rst/closed6_dry_rot3.parm7')\n",
    "\n",
    "rf4=pt.load('../1-Trajectories/0-Parm_rst/closed6_dry_rot4.rst7',\n",
    "            '../1-Trajectories/0-Parm_rst/closed6_dry_rot4.parm7')\n",
    "\n",
    "rf5=pt.load('../1-Trajectories/0-Parm_rst/closed6_dry_rot5.rst7', \n",
    "            '../1-Trajectories/0-Parm_rst/closed6_dry_rot5.parm7')\n",
    "\n",
    "rfopen=pt.load('../1-Trajectories/0-Parm_rst/open10_dry.rst7',\n",
    "               '../1-Trajectories/0-Parm_rst/open10_dry.parm7')"
   ]
  },
  {
   "cell_type": "code",
   "execution_count": 4,
   "metadata": {},
   "outputs": [
    {
     "data": {
      "text/plain": [
       "['../1-Trajectories/1-NoEq_without_IPA/closed_dry_01.nc',\n",
       " '../1-Trajectories/1-NoEq_without_IPA/closed_dry_02.nc',\n",
       " '../1-Trajectories/1-NoEq_without_IPA/closed_dry_03.nc',\n",
       " '../1-Trajectories/1-NoEq_without_IPA/closed_dry_04.nc',\n",
       " '../1-Trajectories/1-NoEq_without_IPA/closed_dry_05.nc',\n",
       " '../1-Trajectories/1-NoEq_without_IPA/closed_dry_06.nc',\n",
       " '../1-Trajectories/1-NoEq_without_IPA/closed_dry_07.nc',\n",
       " '../1-Trajectories/1-NoEq_without_IPA/closed_dry_08.nc',\n",
       " '../1-Trajectories/1-NoEq_without_IPA/closed_dry_09.nc',\n",
       " '../1-Trajectories/1-NoEq_without_IPA/closed_dry_10.nc',\n",
       " '../1-Trajectories/1-NoEq_without_IPA/open_dry_01.nc',\n",
       " '../1-Trajectories/1-NoEq_without_IPA/open_dry_02.nc',\n",
       " '../1-Trajectories/1-NoEq_without_IPA/open_dry_03.nc',\n",
       " '../1-Trajectories/1-NoEq_without_IPA/open_dry_04.nc',\n",
       " '../1-Trajectories/1-NoEq_without_IPA/open_dry_05.nc',\n",
       " '../1-Trajectories/1-NoEq_without_IPA/open_dry_06.nc',\n",
       " '../1-Trajectories/1-NoEq_without_IPA/open_dry_07.nc',\n",
       " '../1-Trajectories/1-NoEq_without_IPA/open_dry_08.nc',\n",
       " '../1-Trajectories/1-NoEq_without_IPA/open_dry_09.nc',\n",
       " '../1-Trajectories/1-NoEq_without_IPA/open_dry_10.nc']"
      ]
     },
     "execution_count": 4,
     "metadata": {},
     "output_type": "execute_result"
    }
   ],
   "source": [
    "indir1 = '../1-Trajectories/1-NoEq_without_IPA'\n",
    "topfile = '../1-Trajectories/0-Parm_rst/open10_dry.parm7'\n",
    "traj_list = sorted(glob(indir1+'/*.nc'))\n",
    "traj_list"
   ]
  },
  {
   "cell_type": "markdown",
   "metadata": {},
   "source": [
    "## GMM construction with limited dataset"
   ]
  },
  {
   "cell_type": "markdown",
   "metadata": {},
   "source": [
    "First the GMM is built using uncorrelated data. We assume the data to be uncorrelated for a frame every 500 ps (dt=5)"
   ]
  },
  {
   "cell_type": "markdown",
   "metadata": {},
   "source": [
    "The trajectory is therefore first loaded with a stride of 5"
   ]
  },
  {
   "cell_type": "code",
   "execution_count": 5,
   "metadata": {},
   "outputs": [],
   "source": [
    "traj = pt.iterload(traj_list, topfile, stride=5)"
   ]
  },
  {
   "cell_type": "markdown",
   "metadata": {},
   "source": [
    "The RMSD is then calculated. Because of the symmerty and chain IDs, 6 references are used for the closed form (simplky corresponding to a rotation of the chain IDs, and the minimum RMSD is retained"
   ]
  },
  {
   "cell_type": "code",
   "execution_count": 6,
   "metadata": {},
   "outputs": [],
   "source": [
    "rmsd0=pt.rmsd(traj,ref=rf0, mask=\"@CA,N,C,O\")\n",
    "rmsd1=pt.rmsd(traj,ref=rf1, mask=\"@CA,N,C,O\")\n",
    "rmsd2=pt.rmsd(traj,ref=rf2, mask=\"@CA,N,C,O\")\n",
    "rmsd3=pt.rmsd(traj,ref=rf3, mask=\"@CA,N,C,O\")\n",
    "rmsd4=pt.rmsd(traj,ref=rf4, mask=\"@CA,N,C,O\")\n",
    "rmsd5=pt.rmsd(traj,ref=rf5, mask=\"@CA,N,C,O\")\n",
    "\n",
    "rmsd_closed=np.nanmin(np.array([rmsd0,rmsd1,rmsd2,rmsd3,rmsd4,rmsd5]), axis=0)\n",
    "\n",
    "rmsd_open=pt.rmsd(traj,ref=rfopen, mask=\"@CA,N,C,O\")"
   ]
  },
  {
   "cell_type": "markdown",
   "metadata": {},
   "source": [
    "We construct a array Z with the RMSD to the closed form and to the open form for each frame of the reduced trajectory"
   ]
  },
  {
   "cell_type": "code",
   "execution_count": 7,
   "metadata": {},
   "outputs": [],
   "source": [
    "Z=[]\n",
    "for i in range(0,len(rmsd_open)):\n",
    "    a=np.array([rmsd_closed[i],rmsd_open[i]])\n",
    "    Z.append(a)\n",
    "Z=np.array(Z)"
   ]
  },
  {
   "cell_type": "code",
   "execution_count": 6,
   "metadata": {},
   "outputs": [],
   "source": [
    "# with open('./pickled/2-Without_IPA/Z_dt5.pickle', 'wb') as outf:\n",
    "#     pickle.dump(Z, outf)\n",
    "    \n",
    "with open('./pickled/2-Without_IPA/Z_dt5.pickle', 'rb') as inf:\n",
    "    Z = pickle.load(inf)"
   ]
  },
  {
   "cell_type": "markdown",
   "metadata": {},
   "source": [
    "We need to find the optimum number of components for constructing the GMM so we screen for a window of 2 to 25 components."
   ]
  },
  {
   "cell_type": "code",
   "execution_count": null,
   "metadata": {},
   "outputs": [],
   "source": [
    "fec = FEC.FreeEnergyClustering(Z, min_n_components=5, max_n_components=25, temperature=293.15,\n",
    "                               x_lims=[[0.0,4.5],[0.0,4.5]],\n",
    "                               n_iterations=20, n_grids=151, n_splits=1,stack_landscapes=False)\n",
    "coords, FE_landscape, FE_points = fec.landscape()"
   ]
  },
  {
   "cell_type": "markdown",
   "metadata": {},
   "source": [
    "The optimum number of components is 10, so we build and save a GMM with that many components"
   ]
  },
  {
   "cell_type": "code",
   "execution_count": null,
   "metadata": {},
   "outputs": [],
   "source": [
    "fec = FEC.FreeEnergyClustering(Z, min_n_components=10, max_n_components=10, temperature=293.15,\n",
    "                               x_lims=[[0.0,4.5],[0.0,4.5]],\n",
    "                               n_iterations=20, n_grids=151, n_splits=1,stack_landscapes=False)"
   ]
  },
  {
   "cell_type": "code",
   "execution_count": null,
   "metadata": {},
   "outputs": [],
   "source": [
    "coords, FE_landscape, FE_points = fec.landscape()"
   ]
  },
  {
   "cell_type": "code",
   "execution_count": 8,
   "metadata": {},
   "outputs": [],
   "source": [
    "# with open('./pickled/2-Without_IPA/coords_dt5.pickle', 'wb') as outf:\n",
    "#     pickle.dump(coords, outf)\n",
    "# with open('./pickled/2-Without_IPA/FE_landscape_dt5.pickle', 'wb') as outf:\n",
    "#     pickle.dump(FE_landscape, outf)\n",
    "# with open('./pickled/2-Without_IPA/FE_points_dt5.pickle', 'wb') as outf:\n",
    "#     pickle.dump(FE_points, outf)\n",
    "    \n",
    "with open('./pickled/2-Without_IPA/coords_dt5.pickle', 'rb') as inf:\n",
    "    coords = pickle.load(inf)\n",
    "with open('./pickled/2-Without_IPA/FE_landscape_dt5.pickle', 'rb') as inf:\n",
    "    FE_landscape = pickle.load(inf)\n",
    "with open('./pickled/2-Without_IPA/FE_points_dt5.pickle', 'rb') as inf:\n",
    "    FE_points = pickle.load(inf)\n",
    "\n",
    "fec.FE_points_ = np.copy(FE_points)\n",
    "fec.FE_landscape_ = np.copy(FE_landscape)\n",
    "fec.coords_ = coords   "
   ]
  },
  {
   "cell_type": "markdown",
   "metadata": {},
   "source": [
    "We can then plot the FES"
   ]
  },
  {
   "cell_type": "code",
   "execution_count": 9,
   "metadata": {},
   "outputs": [
    {
     "name": "stderr",
     "output_type": "stream",
     "text": [
      "/home/el14718/Modelling/10-ALKEIG/12-Analysis_4/11-InfleCS_clustering_3/free_energy_clustering/GMM_free_energy.py:537: MatplotlibDeprecationWarning: You are modifying the state of a globally registered colormap. In future versions, you will not be able to modify a registered colormap in-place. To remove this warning, you can make a copy of the colormap first. cmap = copy.copy(mpl.cm.get_cmap(\"nipy_spectral\"))\n",
      "  my_cmap.set_over('white')\n"
     ]
    },
    {
     "data": {
      "image/png": "[encoded data removed]",
      "text/plain": [
       "<Figure size 360x360 with 2 Axes>"
      ]
     },
     "metadata": {
      "needs_background": "light"
     },
     "output_type": "display_data"
    }
   ],
   "source": [
    "fec.visualize(fontsize=12, savefig=True, xlabel=r'RMSD to closed crystal structure ($\\AA$)',\n",
    "              ylabel=r'RMSD to open crystal structure ($\\AA$)', zlabel='z', title=None,\n",
    "              vmax=4.5, colormap='nipy_spectral', lim=0.1, n_contour_levels=100, show_data=False, \n",
    "              figsize= [5, 5], transition_point_size=1, core_point_size=5, core_point_edgecolor='k', \n",
    "              colormap2='spectral',clust_point_edgecolor='w', clust_point_facecolor='', \n",
    "              clust_point_size=5, clust_point_linewidth=4, clust_point_marker='s',legend=None,\n",
    "              extend=None, rmsd_point_size=40, rmsd_point_fontsize=10,rmsd_point_color='k', dx=1,\n",
    "              filename='./plots/2-Without_IPA/1-FES_with_IPA_dt5', ax=None)"
   ]
  },
  {
   "cell_type": "markdown",
   "metadata": {},
   "source": [
    "## Clustering for the limited dataset"
   ]
  },
  {
   "cell_type": "code",
   "execution_count": 13,
   "metadata": {},
   "outputs": [
    {
     "name": "stdout",
     "output_type": "stream",
     "text": [
      "Clustering free energy landscape...\n",
      "Computing Hessians of density landscape.\n",
      "Point: 22801/22801\n",
      "Constructing connected components.\n",
      "# Graph connections: 9358.0\n",
      "Clustering data points.\n",
      "Cluster labels: [0. 1. 2. 3. 4. 5. 6.]\n",
      "Assigning cluster indices to non-core cluster points.\n",
      "Done clustering.\n",
      "Cluster center indices: [106142  69565  97665 101741  31975  51403]\n"
     ]
    }
   ],
   "source": [
    "labels, cluster_centers = fec.cluster(coords, FE_points,Z, assign_transition_points=True)\n",
    "print(\"Cluster center indices: \"+str(cluster_centers))"
   ]
  },
  {
   "cell_type": "code",
   "execution_count": 10,
   "metadata": {},
   "outputs": [],
   "source": [
    "# with open('./pickled/2-Without_IPA/labels_dt5.pickle', 'wb') as outf:\n",
    "#     pickle.dump(labels, outf)\n",
    "# with open('./pickled/2-Without_IPA/cluster_centers_dt5.pickle', 'wb') as outf:\n",
    "#     pickle.dump(cluster_centers, outf)\n",
    "    \n",
    "with open('./pickled/2-Without_IPA/labels_dt5.pickle', 'rb') as inf:\n",
    "    labels=pickle.load(inf)\n",
    "with open('./pickled/2-Without_IPA/cluster_centers_dt5.pickle', 'rb') as inf:\n",
    "    cluster_centers=pickle.load(inf)\n",
    "    \n",
    "fec.labels_ = np.copy(labels)\n",
    "fec.cluster_centers_ = np.copy(cluster_centers)"
   ]
  },
  {
   "cell_type": "code",
   "execution_count": null,
   "metadata": {},
   "outputs": [],
   "source": [
    "fec.pathways_ = None\n",
    "fec.visualize(fontsize=12, savefig=True, xlabel=r'RMSD to closed crystal structure ($\\AA$)',\n",
    "              ylabel=r'RMSD to open crystal structure ($\\AA$)', zlabel='z', title=None,\n",
    "              vmax=4.5, colormap='nipy_spectral', lim=0.1, n_contour_levels=100, show_data=True, \n",
    "              figsize= [5, 5], transition_point_size=0, core_point_size=0.05, core_point_edgecolor=None, \n",
    "              colormap2='viridis',clust_point_edgecolor=None, clust_point_facecolor='k', \n",
    "              clust_point_size=30, clust_point_linewidth=0, clust_point_marker='o',legend=None,\n",
    "              extend='neither', rmsd_point_size=40, rmsd_point_fontsize=10, dx=1,\n",
    "              core_point_alpha=0.8, transition_point_alpha=0.0, surface_alpha=0.0,\n",
    "              filename='./plots/2-Without_IPA/2-Cluster_map_with_IPA_dt5.png', ax=None)"
   ]
  },
  {
   "cell_type": "code",
   "execution_count": 12,
   "metadata": {},
   "outputs": [
    {
     "data": {
      "image/png": "[encoded data removed]",
      "text/plain": [
       "<Figure size 360x360 with 2 Axes>"
      ]
     },
     "metadata": {
      "needs_background": "light"
     },
     "output_type": "display_data"
    }
   ],
   "source": [
    "fec.visualize(fontsize=12, savefig=True, xlabel=r'RMSD to closed crystal structure ($\\AA$)',\n",
    "              ylabel=r'RMSD to open crystal structure ($\\AA$)', zlabel='z', title=None,\n",
    "              vmax=4.5, colormap='nipy_spectral', lim=0.1, n_contour_levels=100, show_data=True, \n",
    "              figsize= [5, 5], transition_point_size=0, core_point_size=0.0, core_point_edgecolor='k', \n",
    "              colormap2='jet',clust_point_edgecolor='k', clust_point_facecolor='w', \n",
    "              clust_point_size=30, clust_point_linewidth=0, clust_point_marker='o',legend=None,\n",
    "              extend='neither', rmsd_point_size=40, rmsd_point_fontsize=10, dx=1,\n",
    "              core_point_alpha=0.8, transition_point_alpha=0.0, surface_alpha=1,rmsd_point_color='k',\n",
    "              filename='./plots/2-Without_IPA/3-FES_with_IPA_with_cluster_centres_dt5.png', ax=None)"
   ]
  },
  {
   "cell_type": "markdown",
   "metadata": {},
   "source": [
    "To use the red colour code"
   ]
  },
  {
   "cell_type": "code",
   "execution_count": 15,
   "metadata": {},
   "outputs": [],
   "source": [
    "hexlist=[]\n",
    "\n",
    "cmap = cm.get_cmap(\"Blues\",8)    # PiYG\n",
    "\n",
    "for i in range(cmap.N):\n",
    "    rgb = cmap(i)[:3] # will return rgba, we take only first 3 so we get rgb\n",
    "    hexlist.append(matplotlib.colors.rgb2hex(rgb))\n",
    "# sns.set_palette(hexlist)\n",
    "# sns.palplot(sns.color_palette())\n",
    "\n",
    "my_cmap=ListedColormap([hexlist[7],hexlist[6],hexlist[4],hexlist[5],hexlist[2],hexlist[3]])"
   ]
  },
  {
   "cell_type": "code",
   "execution_count": 16,
   "metadata": {},
   "outputs": [
    {
     "data": {
      "image/png": "[encoded data removed]",
      "text/plain": [
       "<Figure size 360x360 with 2 Axes>"
      ]
     },
     "metadata": {
      "needs_background": "light"
     },
     "output_type": "display_data"
    }
   ],
   "source": [
    "fec.pathways_ = None\n",
    "fig, ax = plt.subplots()\n",
    "fec.visualize(fontsize=12, savefig=False, xlabel=r'RMSD to closed crystal structure ($\\AA$)',\n",
    "              ylabel=r'RMSD to open crystal structure ($\\AA$)', zlabel='z', title=None,\n",
    "              vmax=4.5, colormap='nipy_spectral', lim=0.1, n_contour_levels=100, show_data=True, \n",
    "              figsize= [5, 5], transition_point_size=0, core_point_size=0.25, core_point_edgecolor=None, \n",
    "              colormap2=my_cmap,clust_point_edgecolor=None, clust_point_facecolor=None, \n",
    "              clust_point_size=0, clust_point_linewidth=0, clust_point_marker='s',legend=None,\n",
    "              extend='neither', rmsd_point_size=0, rmsd_point_fontsize=0, dx=1,\n",
    "              core_point_alpha=1, transition_point_alpha=0.0, surface_alpha=0.0,\n",
    "              filename='./plots/1-With_IPA/2-Cluster_map_with_IPA_dt1', ax=ax,core_point_marker='o')\n",
    "\n",
    "\n",
    "ax.text(1.3,3.1,r'$\\mathcal{S}_1$',c='k',fontsize=12)\n",
    "ax.text(2.2,3.1,r'$\\mathcal{S}_2$',c='k',fontsize=12)\n",
    "ax.text(2.28,2.55,r'$\\mathcal{S}_3$',c='k',fontsize=12)\n",
    "ax.text(3.4,2.9,r'$\\mathcal{S}_4$',c='k',fontsize=12)\n",
    "ax.text(3.,2.5,r'$\\mathcal{S}_5$',c='w',fontsize=12 )\n",
    "ax.text(2.8,1.9,r'$\\mathcal{S}_6$',c='w',fontsize=12)\n",
    "\n",
    "fig.savefig('./plots/2-Without_IPA/2-Cluster_map_with_IPA_dt5.png', dpi=600)"
   ]
  },
  {
   "cell_type": "markdown",
   "metadata": {},
   "source": [
    "We can then look at the population of each state for the limited dataset"
   ]
  },
  {
   "cell_type": "code",
   "execution_count": 21,
   "metadata": {},
   "outputs": [
    {
     "name": "stdout",
     "output_type": "stream",
     "text": [
      "Sampling points from density.\n",
      "Assigning cluster labels based on precomputed density model clustering.\n",
      "Computing state populations.\n"
     ]
    },
    {
     "data": {
      "text/plain": [
       "array([14.68848471, 57.59854055,  5.22140527,  0.        ,  1.6142407 ,\n",
       "        5.55586268, 15.32146608])"
      ]
     },
     "execution_count": 21,
     "metadata": {},
     "output_type": "execute_result"
    }
   ],
   "source": [
    "# Computing state populations\n",
    "state_populations = fec.population_states(n_sampled_points=100000)\n",
    "state_populations*100"
   ]
  },
  {
   "cell_type": "markdown",
   "metadata": {},
   "source": [
    "## Assigning clusters to the full dataset"
   ]
  },
  {
   "cell_type": "markdown",
   "metadata": {},
   "source": [
    "The trajectory is therefore first loaded with a stride of 1"
   ]
  },
  {
   "cell_type": "code",
   "execution_count": 17,
   "metadata": {},
   "outputs": [],
   "source": [
    "traj_all = pt.iterload(traj_list, topfile, stride=1)"
   ]
  },
  {
   "cell_type": "markdown",
   "metadata": {},
   "source": [
    "The RMSD is calculated and the Z array constructed"
   ]
  },
  {
   "cell_type": "code",
   "execution_count": 23,
   "metadata": {},
   "outputs": [],
   "source": [
    "rmsd0=pt.rmsd(traj_all,ref=rf0, mask=\"@CA,N,C,O\")\n",
    "rmsd1=pt.rmsd(traj_all,ref=rf1, mask=\"@CA,N,C,O\")\n",
    "rmsd2=pt.rmsd(traj_all,ref=rf2, mask=\"@CA,N,C,O\")\n",
    "rmsd3=pt.rmsd(traj_all,ref=rf3, mask=\"@CA,N,C,O\")\n",
    "rmsd4=pt.rmsd(traj_all,ref=rf4, mask=\"@CA,N,C,O\")\n",
    "rmsd5=pt.rmsd(traj_all,ref=rf5, mask=\"@CA,N,C,O\")\n",
    "\n",
    "rmsd_closed_all=np.nanmin(np.array([rmsd0,rmsd1,rmsd2,rmsd3,rmsd4,rmsd5]), axis=0)\n",
    "\n",
    "rmsd_open_all=pt.rmsd(traj_all,ref=rfopen, mask=\"@CA,N,C,O\")"
   ]
  },
  {
   "cell_type": "code",
   "execution_count": 24,
   "metadata": {},
   "outputs": [],
   "source": [
    "Z_all=[]\n",
    "for i in range(0,len(rmsd_open_all)):\n",
    "    a=np.array([rmsd_closed_all[i],rmsd_open_all[i]])\n",
    "    Z_all.append(a)\n",
    "Z_all=np.array(Z_all)"
   ]
  },
  {
   "cell_type": "code",
   "execution_count": 2,
   "metadata": {},
   "outputs": [],
   "source": [
    "# with open('./pickled/2-Without_IPA/Z_dt1.pickle', 'wb') as outf:\n",
    "#     pickle.dump(Z_all, outf)\n",
    "    \n",
    "with open('./pickled/2-Without_IPA/Z_dt1.pickle', 'rb') as inf:\n",
    "    Z_all = pickle.load(inf)"
   ]
  },
  {
   "cell_type": "markdown",
   "metadata": {},
   "source": [
    "Then we can assign all the points to the pre-computed clusters"
   ]
  },
  {
   "cell_type": "code",
   "execution_count": 26,
   "metadata": {},
   "outputs": [
    {
     "name": "stdout",
     "output_type": "stream",
     "text": [
      "Assigning cluster labels based on precomputed density model clustering.\n",
      "Assigning cluster indices to non-core cluster points.\n"
     ]
    }
   ],
   "source": [
    "labels_all = fec.evaluate_clustering(Z_all, assign_transition_points=True)"
   ]
  },
  {
   "cell_type": "code",
   "execution_count": 19,
   "metadata": {},
   "outputs": [],
   "source": [
    "# with open('./pickled/2-Without_IPA/labels_all.pickle', 'wb') as outf:\n",
    "#     pickle.dump(labels_all, outf)\n",
    "\n",
    "with open('./pickled/2-Without_IPA/labels_all.pickle', 'rb') as inf:\n",
    "    labels_all=pickle.load(inf)\n",
    "    \n",
    "# fec.labels_ = np.copy(labels_all)"
   ]
  },
  {
   "cell_type": "code",
   "execution_count": 20,
   "metadata": {},
   "outputs": [],
   "source": [
    "fec.labels_ = np.copy(labels_all)"
   ]
  },
  {
   "cell_type": "code",
   "execution_count": 29,
   "metadata": {
    "scrolled": true
   },
   "outputs": [
    {
     "name": "stdout",
     "output_type": "stream",
     "text": [
      "Sampling points from density.\n",
      "Assigning cluster labels based on precomputed density model clustering.\n",
      "Computing state populations.\n"
     ]
    },
    {
     "data": {
      "text/plain": [
       "array([14.67667918, 58.04477819,  5.23710193,  0.        ,  1.59643999,\n",
       "        5.24822695, 15.19677374])"
      ]
     },
     "execution_count": 29,
     "metadata": {},
     "output_type": "execute_result"
    }
   ],
   "source": [
    "# Computing state populations\n",
    "state_populations = fec.population_states(n_sampled_points=100000)\n",
    "state_populations*100"
   ]
  },
  {
   "cell_type": "markdown",
   "metadata": {},
   "source": [
    "## FES for the full dataset"
   ]
  },
  {
   "cell_type": "code",
   "execution_count": 7,
   "metadata": {},
   "outputs": [
    {
     "name": "stdout",
     "output_type": "stream",
     "text": [
      "*----------------Gaussian mixture model free energy estimator----------------*\n",
      "   n_splits = 1\n",
      "   shuffle_data = False\n",
      "   n_iterations = 5\n",
      "   n_grids = 150\n",
      "   covergence_tol = 0.0001\n",
      "   stack_landscapes = False\n",
      "   x_lims (axes limits) = [[0.0, 4.5], [0.0, 4.5]]\n",
      "   temperature = 293.15\n",
      "   min_n_components = 10\n",
      "   max_n_components = 10\n",
      "   n_components_step = 1\n",
      "   Using weighted data: False\n",
      "*----------------------------------------------------------------------------*\n"
     ]
    }
   ],
   "source": [
    "fec_all = FEC.FreeEnergyClustering(Z_all, min_n_components=10, max_n_components=10, temperature=293.15,\n",
    "                               x_lims=[[0.0,4.5],[0.0,4.5]],\n",
    "                               n_iterations=5, n_grids=150, n_splits=1,stack_landscapes=False)"
   ]
  },
  {
   "cell_type": "code",
   "execution_count": 31,
   "metadata": {},
   "outputs": [
    {
     "name": "stdout",
     "output_type": "stream",
     "text": [
      "Estimating density with GMM.\n",
      "# Components = 10\n",
      "Identifying final model with 10 components.\n",
      "Evaluating density in landscape\n",
      "Density grid shape: [150, 150]\n"
     ]
    }
   ],
   "source": [
    "coords_all, FE_landscape_all, FE_points_all = fec_all.landscape()"
   ]
  },
  {
   "cell_type": "code",
   "execution_count": 22,
   "metadata": {},
   "outputs": [],
   "source": [
    "# with open('./pickled/2-Without_IPA/coords_dt1.pickle', 'wb') as outf:\n",
    "#     pickle.dump(coords_all, outf)\n",
    "# with open('./pickled/2-Without_IPA/FE_landscape_dt1.pickle', 'wb') as outf:\n",
    "#     pickle.dump(FE_landscape_all, outf)\n",
    "# with open('./pickled/2-Without_IPA/FE_points_dt1.pickle', 'wb') as outf:\n",
    "#     pickle.dump(FE_points_all, outf)\n",
    "    \n",
    "with open('./pickled/2-Without_IPA/coords_dt1.pickle', 'rb') as inf:\n",
    "    coords_all = pickle.load(inf)\n",
    "with open('./pickled/2-Without_IPA/FE_landscape_dt1.pickle', 'rb') as inf:\n",
    "    FE_landscape_all = pickle.load(inf)\n",
    "with open('./pickled/2-Without_IPA/FE_points_dt1.pickle', 'rb') as inf:\n",
    "    FE_points_all = pickle.load(inf)\n",
    "\n",
    "fec_all.FE_points_ = np.copy(FE_points_all)\n",
    "fec_all.FE_landscape_ = np.copy(FE_landscape_all)\n",
    "fec_all.coords_ = coords_all "
   ]
  },
  {
   "cell_type": "code",
   "execution_count": 23,
   "metadata": {},
   "outputs": [
    {
     "data": {
      "image/png": "[encoded data removed]",
      "text/plain": [
       "<Figure size 360x360 with 2 Axes>"
      ]
     },
     "metadata": {
      "needs_background": "light"
     },
     "output_type": "display_data"
    }
   ],
   "source": [
    "fec_all.visualize(fontsize=12, savefig=True, xlabel=r'RMSD to closed crystal structure ($\\AA$)',\n",
    "              ylabel=r'RMSD to open crystal structure ($\\AA$)', zlabel='z', title=None,\n",
    "              vmax=4.5, colormap='nipy_spectral', lim=0.1, n_contour_levels=100, show_data=False, \n",
    "              figsize= [5, 5], transition_point_size=1, core_point_size=5, core_point_edgecolor='k', \n",
    "              colormap2='spectral',clust_point_edgecolor='w', clust_point_facecolor='', \n",
    "              clust_point_size=5, clust_point_linewidth=4, clust_point_marker='s',legend=None,\n",
    "              extend=None, rmsd_point_size=40, rmsd_point_fontsize=10,rmsd_point_color='k', dx=1,\n",
    "              filename='./plots/2-Without_IPA/1-FES_with_IPA_dt1', ax=None)"
   ]
  },
  {
   "cell_type": "code",
   "execution_count": 24,
   "metadata": {},
   "outputs": [],
   "source": [
    "fec_all.labels_ = np.copy(labels_all)\n",
    "\n",
    "## the cluster centers are frame indexes so they are not valid here\n",
    "# fec_all.cluster_centers_ = np.copy(cluster_centers)"
   ]
  },
  {
   "cell_type": "code",
   "execution_count": 35,
   "metadata": {},
   "outputs": [
    {
     "data": {
      "image/png": "[encoded data removed]",
      "text/plain": [
       "<Figure size 360x360 with 2 Axes>"
      ]
     },
     "metadata": {
      "needs_background": "light"
     },
     "output_type": "display_data"
    }
   ],
   "source": [
    "fec_all.pathways_ = None\n",
    "fig, ax = plt.subplots()\n",
    "fec_all.visualize(fontsize=12, savefig=False, xlabel=r'RMSD to closed crystal structure ($\\AA$)',\n",
    "              ylabel=r'RMSD to open crystal structure ($\\AA$)', zlabel='z', title=None,\n",
    "              vmax=4.5, colormap='nipy_spectral', lim=0.1, n_contour_levels=100, show_data=True, \n",
    "              figsize= [5, 5], transition_point_size=0, core_point_size=0.25, core_point_edgecolor=None, \n",
    "              colormap2=my_cmap,clust_point_edgecolor=None, clust_point_facecolor=None, \n",
    "              clust_point_size=0, clust_point_linewidth=0, clust_point_marker='s',legend=None,\n",
    "              extend='neither', rmsd_point_size=0, rmsd_point_fontsize=0, dx=1,\n",
    "              core_point_alpha=1, transition_point_alpha=0.0, surface_alpha=0.0,\n",
    "              filename='./plots/1-With_IPA/2-Cluster_map_with_IPA_dt1', ax=ax,core_point_marker='o')\n",
    "\n",
    "\n",
    "ax.text(1.3,3.1,r'$\\mathcal{S}_1$',c='k',fontsize=14)\n",
    "ax.text(2.2,3.1,r'$\\mathcal{S}_2$',c='k',fontsize=14)\n",
    "ax.text(2.27,2.56,r'$\\mathcal{S}_3$',c='k',fontsize=14)\n",
    "ax.text(3.4,2.9,r'$\\mathcal{S}_4$',c='w',fontsize=14)\n",
    "ax.text(3.,2.5,r'$\\mathcal{S}_5$',c='w',fontsize=14 )\n",
    "ax.text(2.8,1.9,r'$\\mathcal{S}_6$',c='w',fontsize=14)\n",
    "\n",
    "fig.savefig('./plots/2-Without_IPA/2-Cluster_map_with_IPA_dt1.png', dpi=600)"
   ]
  },
  {
   "cell_type": "markdown",
   "metadata": {},
   "source": [
    "## Creating crisp clustering for extracting representative structures"
   ]
  },
  {
   "cell_type": "markdown",
   "metadata": {},
   "source": [
    "Note that the GMM needs to be reconstructed form scratch running the following command, else the clustering doesn't work"
   ]
  },
  {
   "cell_type": "code",
   "execution_count": 26,
   "metadata": {},
   "outputs": [
    {
     "name": "stdout",
     "output_type": "stream",
     "text": [
      "*----------------Gaussian mixture model free energy estimator----------------*\n",
      "   n_splits = 1\n",
      "   shuffle_data = False\n",
      "   n_iterations = 5\n",
      "   n_grids = 151\n",
      "   covergence_tol = 0.0001\n",
      "   stack_landscapes = False\n",
      "   x_lims (axes limits) = [[0.0, 4.5], [0.0, 4.5]]\n",
      "   temperature = 293.15\n",
      "   min_n_components = 10\n",
      "   max_n_components = 10\n",
      "   n_components_step = 1\n",
      "   Using weighted data: False\n",
      "*----------------------------------------------------------------------------*\n"
     ]
    }
   ],
   "source": [
    "fec = FEC.FreeEnergyClustering(Z, min_n_components=10, max_n_components=10, temperature=293.15,\n",
    "                               x_lims=[[0.0,4.5],[0.0,4.5]],\n",
    "                               n_iterations=5, n_grids=151, n_splits=1,stack_landscapes=False)"
   ]
  },
  {
   "cell_type": "code",
   "execution_count": null,
   "metadata": {},
   "outputs": [],
   "source": [
    "coords, FE_landscape, FE_points = fec.landscape()"
   ]
  },
  {
   "cell_type": "code",
   "execution_count": 27,
   "metadata": {},
   "outputs": [],
   "source": [
    "with open('./pickled/2-Without_IPA/coords_dt5.pickle', 'rb') as inf:\n",
    "    coords = pickle.load(inf)\n",
    "with open('./pickled/2-Without_IPA/FE_landscape_dt5.pickle', 'rb') as inf:\n",
    "    FE_landscape = pickle.load(inf)\n",
    "with open('./pickled/2-Without_IPA/FE_points_dt5.pickle', 'rb') as inf:\n",
    "    FE_points = pickle.load(inf)\n",
    "\n",
    "fec.FE_points_ = np.copy(FE_landscape)\n",
    "fec.FE_landscape_ = np.copy(FE_landscape)\n",
    "fec.coords_ = coords  "
   ]
  },
  {
   "cell_type": "code",
   "execution_count": 37,
   "metadata": {},
   "outputs": [
    {
     "name": "stdout",
     "output_type": "stream",
     "text": [
      "Clustering free energy landscape...\n",
      "Computing Hessians of density landscape.\n",
      "Point: 22801/22801\n",
      "Constructing connected components.\n",
      "# Graph connections: 9452.0\n",
      "Clustering data points.\n",
      "Cluster labels: [0. 1. 2. 3. 4. 5. 6.]\n",
      "Assigning cluster indices to non-core cluster points.\n",
      "Done clustering.\n",
      "Cluster center indices: [106142  69565  97665 101741  31975  51403]\n"
     ]
    }
   ],
   "source": [
    "labels, cluster_centers = fec.cluster(coords,FE_points,Z, assign_transition_points=True)\n",
    "print(\"Cluster center indices: \"+str(cluster_centers))"
   ]
  },
  {
   "cell_type": "code",
   "execution_count": 28,
   "metadata": {},
   "outputs": [],
   "source": [
    "# with open('./pickled/2-Without_IPA/labels_dt5_crisp.pickle', 'wb') as outf:\n",
    "#     pickle.dump(labels, outf)\n",
    "# with open('./pickled/2-Without_IPA/cluster_centers_dt5_crisp.pickle', 'wb') as outf:\n",
    "#     pickle.dump(cluster_centers, outf)\n",
    "    \n",
    "with open('./pickled/2-Without_IPA/labels_dt5_crisp.pickle', 'rb') as inf:\n",
    "    labels=pickle.load(inf)\n",
    "with open('./pickled/2-Without_IPA/cluster_centers_dt5_crisp.pickle', 'rb') as inf:\n",
    "    cluster_centers=pickle.load(inf)\n",
    "    \n",
    "fec.labels_ = np.copy(labels)\n",
    "fec.cluster_centers_ = np.copy(cluster_centers)"
   ]
  },
  {
   "cell_type": "code",
   "execution_count": 39,
   "metadata": {},
   "outputs": [
    {
     "name": "stdout",
     "output_type": "stream",
     "text": [
      "Sampling points from density.\n",
      "Assigning cluster labels based on precomputed density model clustering.\n",
      "Computing state populations.\n"
     ]
    },
    {
     "data": {
      "text/plain": [
       "array([0.14458162, 0.58737997, 0.0521262 , 0.        , 0.01481481,\n",
       "       0.0515775 , 0.14951989])"
      ]
     },
     "execution_count": 39,
     "metadata": {},
     "output_type": "execute_result"
    }
   ],
   "source": [
    "state_populations = fec.population_states(n_sampled_points=10000)\n",
    "state_populations"
   ]
  },
  {
   "cell_type": "code",
   "execution_count": 40,
   "metadata": {},
   "outputs": [
    {
     "data": {
      "text/plain": [
       "Counter({5.0: 5544, 6.0: 15864, 3.0: 5357, 2.0: 66939, 4.0: 2870, 1.0: 12801})"
      ]
     },
     "execution_count": 40,
     "metadata": {},
     "output_type": "execute_result"
    }
   ],
   "source": [
    "from collections import Counter\n",
    "Counter(labels)"
   ]
  },
  {
   "cell_type": "code",
   "execution_count": 42,
   "metadata": {},
   "outputs": [],
   "source": [
    "# Just in case\n",
    "labels_old=labels\n",
    "cluster_centers_old=cluster_centers"
   ]
  },
  {
   "cell_type": "code",
   "execution_count": 73,
   "metadata": {},
   "outputs": [],
   "source": [
    "# To retry\n",
    "labels=labels_old\n",
    "cluster_centers=cluster_centers_old"
   ]
  },
  {
   "cell_type": "code",
   "execution_count": 74,
   "metadata": {},
   "outputs": [],
   "source": [
    "i=1\n",
    "threshold=1\n",
    "cluster_FE = FE_points[labels==i]\n",
    "cluster_center_FE = FE_points[int(cluster_centers[i-1])]\n",
    "diff_FE = cluster_FE-cluster_center_FE\n",
    "new_labels = np.zeros(cluster_FE.shape[0])\n",
    "new_labels[diff_FE< threshold] = i\n",
    "\n",
    "labels[labels==i] = np.copy(new_labels)"
   ]
  },
  {
   "cell_type": "code",
   "execution_count": 75,
   "metadata": {},
   "outputs": [],
   "source": [
    "i=2\n",
    "threshold=1\n",
    "cluster_FE = FE_points[labels==i]\n",
    "cluster_center_FE = FE_points[int(cluster_centers[i-1])]\n",
    "diff_FE = cluster_FE-cluster_center_FE\n",
    "new_labels = np.zeros(cluster_FE.shape[0])\n",
    "new_labels[diff_FE< threshold] = i\n",
    "\n",
    "labels[labels==i] = np.copy(new_labels)"
   ]
  },
  {
   "cell_type": "code",
   "execution_count": 76,
   "metadata": {},
   "outputs": [],
   "source": [
    "i=3\n",
    "threshold=0.35\n",
    "cluster_FE = FE_points[labels==i]\n",
    "cluster_center_FE = FE_points[int(cluster_centers[i-1])]\n",
    "diff_FE = cluster_FE-cluster_center_FE\n",
    "new_labels = np.zeros(cluster_FE.shape[0])\n",
    "new_labels[diff_FE< threshold] = i\n",
    "\n",
    "labels[labels==i] = np.copy(new_labels)"
   ]
  },
  {
   "cell_type": "code",
   "execution_count": 77,
   "metadata": {},
   "outputs": [],
   "source": [
    "i=4\n",
    "threshold=3\n",
    "cluster_FE = FE_points[labels==i]\n",
    "cluster_center_FE = FE_points[int(cluster_centers[i-1])]\n",
    "diff_FE = cluster_FE-cluster_center_FE\n",
    "new_labels = np.zeros(cluster_FE.shape[0])\n",
    "new_labels[diff_FE< threshold] = i\n",
    "\n",
    "labels[labels==i] = np.copy(new_labels)"
   ]
  },
  {
   "cell_type": "code",
   "execution_count": 78,
   "metadata": {},
   "outputs": [],
   "source": [
    "i=5\n",
    "threshold=0.25\n",
    "cluster_FE = FE_points[labels==i]\n",
    "cluster_center_FE = FE_points[int(cluster_centers[i-1])]\n",
    "diff_FE = cluster_FE-cluster_center_FE\n",
    "new_labels = np.zeros(cluster_FE.shape[0])\n",
    "new_labels[diff_FE< threshold] = i\n",
    "\n",
    "labels[labels==i] = np.copy(new_labels)"
   ]
  },
  {
   "cell_type": "code",
   "execution_count": 79,
   "metadata": {},
   "outputs": [],
   "source": [
    "i=6\n",
    "threshold=0.5\n",
    "cluster_FE = FE_points[labels==i]\n",
    "cluster_center_FE = FE_points[int(cluster_centers[i-1])]\n",
    "diff_FE = cluster_FE-cluster_center_FE\n",
    "new_labels = np.zeros(cluster_FE.shape[0])\n",
    "new_labels[diff_FE< threshold] = i\n",
    "\n",
    "labels[labels==i] = np.copy(new_labels)"
   ]
  },
  {
   "cell_type": "code",
   "execution_count": 32,
   "metadata": {},
   "outputs": [
    {
     "data": {
      "image/png": "[encoded data removed]",
      "text/plain": [
       "<Figure size 360x360 with 2 Axes>"
      ]
     },
     "metadata": {
      "needs_background": "light"
     },
     "output_type": "display_data"
    }
   ],
   "source": [
    "fec.visualize(fontsize=12, savefig=True, xlabel=r'RMSD to closed crystal structure ($\\AA$)',\n",
    "                  ylabel=r'RMSD to open crystal structure ($\\AA$)', zlabel='z', title=None,\n",
    "                  vmax=4.5, colormap='Greys', lim=0.1, n_contour_levels=21, show_data=True, \n",
    "                  figsize= [5, 5], transition_point_size=0, core_point_size=0.25, \n",
    "                  core_point_edgecolor=None, \n",
    "                  colormap2=my_cmap,clust_point_edgecolor=None, clust_point_facecolor=None, \n",
    "                  clust_point_size=0, clust_point_linewidth=0, \n",
    "                  clust_point_marker='.',legend=None,\n",
    "                  extend=None, rmsd_point_size=40, rmsd_point_fontsize=10, dx=1,rmsd_point_color='k',\n",
    "                  core_point_alpha=1, transition_point_alpha=0.0, surface_alpha=1,\n",
    "                  filename='./plots/2-Without_IPA/5-crisp_cluster_dt5_extended', \n",
    "                  ax=None, core_point_marker='o')"
   ]
  },
  {
   "cell_type": "code",
   "execution_count": 81,
   "metadata": {},
   "outputs": [
    {
     "data": {
      "text/plain": [
       "Counter({0.0: 50659,\n",
       "         5.0: 2452,\n",
       "         3.0: 3575,\n",
       "         2.0: 37091,\n",
       "         4.0: 1442,\n",
       "         1.0: 8097,\n",
       "         6.0: 6059})"
      ]
     },
     "execution_count": 81,
     "metadata": {},
     "output_type": "execute_result"
    }
   ],
   "source": [
    "Counter(labels)"
   ]
  },
  {
   "cell_type": "markdown",
   "metadata": {},
   "source": [
    "Note that `label==0` corresponds to the non-assigned transition points! The rest are the crisp clusters (from 1 to 6) in the same order than previoulsy"
   ]
  },
  {
   "cell_type": "code",
   "execution_count": 82,
   "metadata": {},
   "outputs": [],
   "source": [
    "with open('./pickled/2-Without_IPA/labels_dt5_crisp.pickle', 'wb') as outf:\n",
    "    pickle.dump(labels, outf)\n",
    "with open('./pickled/2-Without_IPA/cluster_centers_dt5_crisp.pickle', 'wb') as outf:\n",
    "    pickle.dump(cluster_centers, outf)\n",
    "    \n",
    "# with open('./pickled/2-Without_IPA/labels_dt5_crisp.pickle', 'rb') as inf:\n",
    "#     labels=pickle.load(inf)\n",
    "# with open('./pickled/2-Without_IPA/cluster_centers_dt5_crisp.pickle', 'rb') as inf:\n",
    "#     cluster_centers=pickle.load(inf)\n",
    "    \n",
    "# fec.labels_ = np.copy(labels)\n",
    "# fec.cluster_centers_ = np.copy(cluster_centers)"
   ]
  },
  {
   "cell_type": "markdown",
   "metadata": {},
   "source": [
    "## Extracting representative structures"
   ]
  },
  {
   "cell_type": "markdown",
   "metadata": {},
   "source": [
    "Need to first load trajectory in memory as the following `t[labels==i]` doesn't work with `pt.iterload`."
   ]
  },
  {
   "cell_type": "code",
   "execution_count": 83,
   "metadata": {},
   "outputs": [],
   "source": [
    "t = pt.load(traj_list, topfile, stride=5)"
   ]
  },
  {
   "cell_type": "code",
   "execution_count": 84,
   "metadata": {},
   "outputs": [
    {
     "data": {
      "text/plain": [
       "['../1-Trajectories/0-Parm_rst/closed6_dry_rot0.parm7',\n",
       " '../1-Trajectories/0-Parm_rst/closed6_dry_rot1.parm7',\n",
       " '../1-Trajectories/0-Parm_rst/closed6_dry_rot2.parm7',\n",
       " '../1-Trajectories/0-Parm_rst/closed6_dry_rot3.parm7',\n",
       " '../1-Trajectories/0-Parm_rst/closed6_dry_rot4.parm7',\n",
       " '../1-Trajectories/0-Parm_rst/closed6_dry_rot5.parm7']"
      ]
     },
     "execution_count": 84,
     "metadata": {},
     "output_type": "execute_result"
    }
   ],
   "source": [
    "rf=[rf0,rf1,rf2,rf3,rf4,rf5]\n",
    "toplist=sorted(glob('../1-Trajectories/0-Parm_rst/closed6_dry_rot*.parm7'))\n",
    "toplist"
   ]
  },
  {
   "cell_type": "code",
   "execution_count": 85,
   "metadata": {},
   "outputs": [
    {
     "name": "stdout",
     "output_type": "stream",
     "text": [
      "starting with 1\n",
      "Total number of frames: 8097\n",
      "Number of sampled frames: 1000\n",
      "Fraction original trajectories 1.0\n",
      "finished with 1\n",
      "starting with 2\n",
      "Total number of frames: 37091\n",
      "Number of sampled frames: 1000\n",
      "Fraction original trajectories 1.0\n",
      "finished with 2\n",
      "starting with 3\n",
      "Total number of frames: 3575\n",
      "Number of sampled frames: 1000\n",
      "Fraction original trajectories 1.0\n",
      "finished with 3\n",
      "starting with 4\n",
      "Total number of frames: 1442\n",
      "Number of sampled frames: 1000\n",
      "Fraction original trajectories 1.0\n",
      "finished with 4\n",
      "starting with 5\n",
      "Total number of frames: 2452\n",
      "Number of sampled frames: 1000\n",
      "Fraction original trajectories 1.0\n",
      "finished with 5\n",
      "starting with 6\n",
      "Total number of frames: 6059\n",
      "Number of sampled frames: 1000\n",
      "Fraction original trajectories 1.0\n",
      "finished with 6\n"
     ]
    }
   ],
   "source": [
    "sample_number=1000\n",
    "\n",
    "for j in range(1,7):\n",
    "    \n",
    "    print(\"starting with\", j)\n",
    "    \n",
    "    clust_traj = t[labels == j]\n",
    "    print(\"Total number of frames:\", clust_traj.n_frames)\n",
    "\n",
    "\n",
    "    if clust_traj.n_frames > 0:\n",
    "        \n",
    "        randomlist = random.sample(range(0, clust_traj.n_frames), sample_number)\n",
    "        tmp_traj=clust_traj[randomlist]\n",
    "        print(\"Number of sampled frames:\", tmp_traj.n_frames)\n",
    "        \n",
    "        if tmp_traj.n_frames > 0:\n",
    "\n",
    "            new_traj = pt.Trajectory(top=topfile) # Empty trajectory\n",
    "            min_ref=[]\n",
    "    \n",
    "            for i in range(0,tmp_traj.n_frames,1):\n",
    "\n",
    "                rmsd0=pt.rmsd(tmp_traj[i:i+1],ref=rf0, mask=\"@CA,N,C,O\")\n",
    "                rmsd1=pt.rmsd(tmp_traj[i:i+1],ref=rf1, mask=\"@CA,N,C,O\")\n",
    "                rmsd2=pt.rmsd(tmp_traj[i:i+1],ref=rf2, mask=\"@CA,N,C,O\")\n",
    "                rmsd3=pt.rmsd(tmp_traj[i:i+1],ref=rf3, mask=\"@CA,N,C,O\")\n",
    "                rmsd4=pt.rmsd(tmp_traj[i:i+1],ref=rf4, mask=\"@CA,N,C,O\")\n",
    "                rmsd5=pt.rmsd(tmp_traj[i:i+1],ref=rf5, mask=\"@CA,N,C,O\")\n",
    "\n",
    "                rmsd_all=np.array([rmsd0,rmsd1,rmsd2,rmsd3,rmsd4,rmsd5])\n",
    "\n",
    "                ali_struct=np.where(rmsd_all == np.nanmin(rmsd_all, axis=0))\n",
    "                nb=int(ali_struct[0])\n",
    "                new_frame=pt.align(tmp_traj[i:i+1],ref=rf[nb],mask=\"@CA,N,C,O\", top=toplist[nb])\n",
    "                new_traj.append(new_frame)\n",
    "                min_ref.append(nb)\n",
    "\n",
    "            new_traj.save('./sample_structures/2-Without_IPA/1-Crisp_1000/ms{}.xtc'.format(j), overwrite=True)  \n",
    "\n",
    "            print(\"Fraction original trajectories\", float(new_traj.n_frames/tmp_traj.n_frames))\n",
    "\n",
    "            with open('./sample_structures/2-Without_IPA/1-Crisp_1000/ref_frame_ms{}.pickle'.format(j)\n",
    "                      , 'wb') as outf:\n",
    "                pickle.dump(min_ref, outf)\n",
    "    print(\"finished with\", j)\n",
    "        "
   ]
  }
 ],
 "metadata": {
  "kernelspec": {
   "display_name": "Python 3",
   "language": "python",
   "name": "python3"
  },
  "language_info": {
   "codemirror_mode": {
    "name": "ipython",
    "version": 3
   },
   "file_extension": ".py",
   "mimetype": "text/x-python",
   "name": "python",
   "nbconvert_exporter": "python",
   "pygments_lexer": "ipython3",
   "version": "3.7.8"
  },
  "toc": {
   "base_numbering": 1,
   "nav_menu": {},
   "number_sections": true,
   "sideBar": true,
   "skip_h1_title": false,
   "title_cell": "Table of Contents",
   "title_sidebar": "Contents",
   "toc_cell": false,
   "toc_position": {},
   "toc_section_display": true,
   "toc_window_display": false
  }
 },
 "nbformat": 4,
 "nbformat_minor": 4
}
